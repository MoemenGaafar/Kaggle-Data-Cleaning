{
 "cells": [
  {
   "cell_type": "markdown",
   "metadata": {
    "papermill": {
     "duration": 0.011901,
     "end_time": "2021-03-11T17:13:10.828114",
     "exception": false,
     "start_time": "2021-03-11T17:13:10.816213",
     "status": "completed"
    },
    "tags": []
   },
   "source": [
    "**This notebook is an exercise in the [Data Cleaning](https://www.kaggle.com/learn/data-cleaning) course.  You can reference the tutorial at [this link](https://www.kaggle.com/alexisbcook/character-encodings).**\n",
    "\n",
    "---\n"
   ]
  },
  {
   "cell_type": "markdown",
   "metadata": {
    "papermill": {
     "duration": 0.010492,
     "end_time": "2021-03-11T17:13:10.849662",
     "exception": false,
     "start_time": "2021-03-11T17:13:10.839170",
     "status": "completed"
    },
    "tags": []
   },
   "source": [
    "In this exercise, you'll apply what you learned in the **Character encodings** tutorial.\n",
    "\n",
    "# Setup\n",
    "\n",
    "The questions below will give you feedback on your work. Run the following cell to set up the feedback system."
   ]
  },
  {
   "cell_type": "code",
   "execution_count": 1,
   "metadata": {
    "execution": {
     "iopub.execute_input": "2021-03-11T17:13:10.876989Z",
     "iopub.status.busy": "2021-03-11T17:13:10.876307Z",
     "iopub.status.idle": "2021-03-11T17:13:10.960551Z",
     "shell.execute_reply": "2021-03-11T17:13:10.961066Z"
    },
    "papermill": {
     "duration": 0.101003,
     "end_time": "2021-03-11T17:13:10.961373",
     "exception": false,
     "start_time": "2021-03-11T17:13:10.860370",
     "status": "completed"
    },
    "tags": []
   },
   "outputs": [
    {
     "name": "stdout",
     "output_type": "stream",
     "text": [
      "Setup Complete\n"
     ]
    }
   ],
   "source": [
    "from learntools.core import binder\n",
    "binder.bind(globals())\n",
    "from learntools.data_cleaning.ex4 import *\n",
    "print(\"Setup Complete\")"
   ]
  },
  {
   "cell_type": "markdown",
   "metadata": {
    "papermill": {
     "duration": 0.011178,
     "end_time": "2021-03-11T17:13:10.984443",
     "exception": false,
     "start_time": "2021-03-11T17:13:10.973265",
     "status": "completed"
    },
    "tags": []
   },
   "source": [
    "# Get our environment set up\n",
    "\n",
    "The first thing we'll need to do is load in the libraries we'll be using."
   ]
  },
  {
   "cell_type": "code",
   "execution_count": 2,
   "metadata": {
    "execution": {
     "iopub.execute_input": "2021-03-11T17:13:11.012762Z",
     "iopub.status.busy": "2021-03-11T17:13:11.012081Z",
     "iopub.status.idle": "2021-03-11T17:13:11.014016Z",
     "shell.execute_reply": "2021-03-11T17:13:11.014591Z"
    },
    "papermill": {
     "duration": 0.019166,
     "end_time": "2021-03-11T17:13:11.014782",
     "exception": false,
     "start_time": "2021-03-11T17:13:10.995616",
     "status": "completed"
    },
    "tags": []
   },
   "outputs": [],
   "source": [
    "# modules we'll use\n",
    "import pandas as pd\n",
    "import numpy as np\n",
    "\n",
    "# helpful character encoding module\n",
    "import chardet\n",
    "\n",
    "# set seed for reproducibility\n",
    "np.random.seed(0)"
   ]
  },
  {
   "cell_type": "markdown",
   "metadata": {
    "papermill": {
     "duration": 0.011104,
     "end_time": "2021-03-11T17:13:11.037252",
     "exception": false,
     "start_time": "2021-03-11T17:13:11.026148",
     "status": "completed"
    },
    "tags": []
   },
   "source": [
    "# 1) What are encodings?\n",
    "\n",
    "You're working with a dataset composed of bytes.  Run the code cell below to print a sample entry."
   ]
  },
  {
   "cell_type": "code",
   "execution_count": 3,
   "metadata": {
    "execution": {
     "iopub.execute_input": "2021-03-11T17:13:11.064668Z",
     "iopub.status.busy": "2021-03-11T17:13:11.064025Z",
     "iopub.status.idle": "2021-03-11T17:13:11.066403Z",
     "shell.execute_reply": "2021-03-11T17:13:11.067004Z"
    },
    "papermill": {
     "duration": 0.018765,
     "end_time": "2021-03-11T17:13:11.067161",
     "exception": false,
     "start_time": "2021-03-11T17:13:11.048396",
     "status": "completed"
    },
    "tags": []
   },
   "outputs": [
    {
     "name": "stdout",
     "output_type": "stream",
     "text": [
      "b'\\xa7A\\xa6n'\n",
      "data type: <class 'bytes'>\n"
     ]
    }
   ],
   "source": [
    "sample_entry = b'\\xa7A\\xa6n'\n",
    "print(sample_entry)\n",
    "print('data type:', type(sample_entry))"
   ]
  },
  {
   "cell_type": "markdown",
   "metadata": {
    "papermill": {
     "duration": 0.011646,
     "end_time": "2021-03-11T17:13:11.090936",
     "exception": false,
     "start_time": "2021-03-11T17:13:11.079290",
     "status": "completed"
    },
    "tags": []
   },
   "source": [
    "You notice that it doesn't use the standard UTF-8 encoding. \n",
    "\n",
    "Use the next code cell to create a variable `new_entry` that changes the encoding from `\"big5-tw\"` to `\"utf-8\"`.  `new_entry` should have the bytes datatype."
   ]
  },
  {
   "cell_type": "code",
   "execution_count": 4,
   "metadata": {
    "execution": {
     "iopub.execute_input": "2021-03-11T17:13:11.122221Z",
     "iopub.status.busy": "2021-03-11T17:13:11.121556Z",
     "iopub.status.idle": "2021-03-11T17:13:11.126912Z",
     "shell.execute_reply": "2021-03-11T17:13:11.127362Z"
    },
    "papermill": {
     "duration": 0.024924,
     "end_time": "2021-03-11T17:13:11.127523",
     "exception": false,
     "start_time": "2021-03-11T17:13:11.102599",
     "status": "completed"
    },
    "tags": []
   },
   "outputs": [
    {
     "data": {
      "application/javascript": [
       "parent.postMessage({\"jupyterEvent\": \"custom.exercise_interaction\", \"data\": {\"outcomeType\": 1, \"valueTowardsCompletion\": 0.3333333333333333, \"interactionType\": 1, \"questionType\": 1, \"questionId\": \"1_EncodingsIntro\", \"learnToolsVersion\": \"0.3.4\", \"failureMessage\": \"\", \"exceptionClass\": \"\", \"trace\": \"\"}}, \"*\")"
      ],
      "text/plain": [
       "<IPython.core.display.Javascript object>"
      ]
     },
     "metadata": {},
     "output_type": "display_data"
    },
    {
     "data": {
      "text/markdown": [
       "<span style=\"color:#33cc33\">Correct</span>"
      ],
      "text/plain": [
       "Correct"
      ]
     },
     "metadata": {},
     "output_type": "display_data"
    }
   ],
   "source": [
    "new_entry = sample_entry.decode('big5-tw').encode('utf-8')\n",
    "\n",
    "# Check your answer\n",
    "q1.check()"
   ]
  },
  {
   "cell_type": "code",
   "execution_count": 5,
   "metadata": {
    "execution": {
     "iopub.execute_input": "2021-03-11T17:13:11.157547Z",
     "iopub.status.busy": "2021-03-11T17:13:11.156962Z",
     "iopub.status.idle": "2021-03-11T17:13:11.160142Z",
     "shell.execute_reply": "2021-03-11T17:13:11.159547Z"
    },
    "papermill": {
     "duration": 0.019775,
     "end_time": "2021-03-11T17:13:11.160267",
     "exception": false,
     "start_time": "2021-03-11T17:13:11.140492",
     "status": "completed"
    },
    "tags": []
   },
   "outputs": [],
   "source": [
    "# Lines below will give you a hint or solution code\n",
    "#q1.hint()\n",
    "#q1.solution()"
   ]
  },
  {
   "cell_type": "markdown",
   "metadata": {
    "papermill": {
     "duration": 0.012855,
     "end_time": "2021-03-11T17:13:11.186082",
     "exception": false,
     "start_time": "2021-03-11T17:13:11.173227",
     "status": "completed"
    },
    "tags": []
   },
   "source": [
    "# 2) Reading in files with encoding problems\n",
    "\n",
    "Use the code cell below to read in this file at path `\"../input/fatal-police-shootings-in-the-us/PoliceKillingsUS.csv\"`.  \n",
    "\n",
    "Figure out what the correct encoding should be and read in the file to a DataFrame `police_killings`."
   ]
  },
  {
   "cell_type": "code",
   "execution_count": 6,
   "metadata": {
    "execution": {
     "iopub.execute_input": "2021-03-11T17:13:11.219956Z",
     "iopub.status.busy": "2021-03-11T17:13:11.219011Z",
     "iopub.status.idle": "2021-03-11T17:13:12.797631Z",
     "shell.execute_reply": "2021-03-11T17:13:12.796576Z"
    },
    "papermill": {
     "duration": 1.597334,
     "end_time": "2021-03-11T17:13:12.797818",
     "exception": false,
     "start_time": "2021-03-11T17:13:11.200484",
     "status": "completed"
    },
    "tags": []
   },
   "outputs": [
    {
     "name": "stdout",
     "output_type": "stream",
     "text": [
      "{'encoding': 'Windows-1252', 'confidence': 0.73, 'language': ''}\n"
     ]
    }
   ],
   "source": [
    "with open(\"../input/fatal-police-shootings-in-the-us/PoliceKillingsUS.csv\", 'rb') as file:\n",
    "    filetype = chardet.detect(file.read(100000))\n",
    "\n",
    "print(filetype)"
   ]
  },
  {
   "cell_type": "code",
   "execution_count": 7,
   "metadata": {
    "execution": {
     "iopub.execute_input": "2021-03-11T17:13:12.831689Z",
     "iopub.status.busy": "2021-03-11T17:13:12.830635Z",
     "iopub.status.idle": "2021-03-11T17:13:12.852986Z",
     "shell.execute_reply": "2021-03-11T17:13:12.852462Z"
    },
    "papermill": {
     "duration": 0.041341,
     "end_time": "2021-03-11T17:13:12.853119",
     "exception": false,
     "start_time": "2021-03-11T17:13:12.811778",
     "status": "completed"
    },
    "tags": []
   },
   "outputs": [
    {
     "data": {
      "application/javascript": [
       "parent.postMessage({\"jupyterEvent\": \"custom.exercise_interaction\", \"data\": {\"outcomeType\": 1, \"valueTowardsCompletion\": 0.3333333333333333, \"interactionType\": 1, \"questionType\": 1, \"questionId\": \"2_ReadIn\", \"learnToolsVersion\": \"0.3.4\", \"failureMessage\": \"\", \"exceptionClass\": \"\", \"trace\": \"\"}}, \"*\")"
      ],
      "text/plain": [
       "<IPython.core.display.Javascript object>"
      ]
     },
     "metadata": {},
     "output_type": "display_data"
    },
    {
     "data": {
      "text/markdown": [
       "<span style=\"color:#33cc33\">Correct</span>"
      ],
      "text/plain": [
       "Correct"
      ]
     },
     "metadata": {},
     "output_type": "display_data"
    }
   ],
   "source": [
    "# TODO: Load in the DataFrame correctly.\n",
    "police_killings = pd.read_csv(\"../input/fatal-police-shootings-in-the-us/PoliceKillingsUS.csv\", encoding='Windows-1252')\n",
    "\n",
    "# Check your answer\n",
    "q2.check()"
   ]
  },
  {
   "cell_type": "markdown",
   "metadata": {
    "papermill": {
     "duration": 0.015052,
     "end_time": "2021-03-11T17:13:12.883584",
     "exception": false,
     "start_time": "2021-03-11T17:13:12.868532",
     "status": "completed"
    },
    "tags": []
   },
   "source": [
    "Feel free to use any additional code cells for supplemental work.  To get credit for finishing this question, you'll need to run `q2.check()` and get a result of **Correct**."
   ]
  },
  {
   "cell_type": "code",
   "execution_count": 8,
   "metadata": {
    "execution": {
     "iopub.execute_input": "2021-03-11T17:13:12.916560Z",
     "iopub.status.busy": "2021-03-11T17:13:12.915975Z",
     "iopub.status.idle": "2021-03-11T17:13:12.919103Z",
     "shell.execute_reply": "2021-03-11T17:13:12.919644Z"
    },
    "papermill": {
     "duration": 0.0209,
     "end_time": "2021-03-11T17:13:12.919819",
     "exception": false,
     "start_time": "2021-03-11T17:13:12.898919",
     "status": "completed"
    },
    "tags": []
   },
   "outputs": [],
   "source": [
    "# Lines below will give you a hint or solution code\n",
    "#q2.hint()\n",
    "#q2.solution()"
   ]
  },
  {
   "cell_type": "markdown",
   "metadata": {
    "papermill": {
     "duration": 0.014695,
     "end_time": "2021-03-11T17:13:12.949458",
     "exception": false,
     "start_time": "2021-03-11T17:13:12.934763",
     "status": "completed"
    },
    "tags": []
   },
   "source": [
    "# 3) Saving your files with UTF-8 encoding\n",
    "\n",
    "Save a version of the police killings dataset to CSV with UTF-8 encoding.  Your answer will be marked correct after saving this file.  \n",
    "\n",
    "Note: When using the `to_csv()` method, supply only the name of the file (e.g., `\"my_file.csv\"`).  This saves the file at the filepath `\"/kaggle/working/my_file.csv\"`."
   ]
  },
  {
   "cell_type": "code",
   "execution_count": 9,
   "metadata": {
    "execution": {
     "iopub.execute_input": "2021-03-11T17:13:12.982570Z",
     "iopub.status.busy": "2021-03-11T17:13:12.981951Z",
     "iopub.status.idle": "2021-03-11T17:13:13.026563Z",
     "shell.execute_reply": "2021-03-11T17:13:13.027038Z"
    },
    "papermill": {
     "duration": 0.06267,
     "end_time": "2021-03-11T17:13:13.027212",
     "exception": false,
     "start_time": "2021-03-11T17:13:12.964542",
     "status": "completed"
    },
    "tags": []
   },
   "outputs": [
    {
     "data": {
      "application/javascript": [
       "parent.postMessage({\"jupyterEvent\": \"custom.exercise_interaction\", \"data\": {\"outcomeType\": 1, \"valueTowardsCompletion\": 0.3333333333333333, \"interactionType\": 1, \"questionType\": 2, \"questionId\": \"3_SaveCSV\", \"learnToolsVersion\": \"0.3.4\", \"failureMessage\": \"\", \"exceptionClass\": \"\", \"trace\": \"\"}}, \"*\")"
      ],
      "text/plain": [
       "<IPython.core.display.Javascript object>"
      ]
     },
     "metadata": {},
     "output_type": "display_data"
    },
    {
     "data": {
      "text/markdown": [
       "<span style=\"color:#33cc33\">Correct</span>"
      ],
      "text/plain": [
       "Correct"
      ]
     },
     "metadata": {},
     "output_type": "display_data"
    }
   ],
   "source": [
    "# TODO: Save the police killings dataset to CSV\n",
    "police_killings.to_csv('encoded.csv')\n",
    "\n",
    "# Check your answer\n",
    "q3.check()"
   ]
  },
  {
   "cell_type": "code",
   "execution_count": 10,
   "metadata": {
    "execution": {
     "iopub.execute_input": "2021-03-11T17:13:13.064793Z",
     "iopub.status.busy": "2021-03-11T17:13:13.064064Z",
     "iopub.status.idle": "2021-03-11T17:13:13.066991Z",
     "shell.execute_reply": "2021-03-11T17:13:13.066408Z"
    },
    "papermill": {
     "duration": 0.023739,
     "end_time": "2021-03-11T17:13:13.067133",
     "exception": false,
     "start_time": "2021-03-11T17:13:13.043394",
     "status": "completed"
    },
    "tags": []
   },
   "outputs": [],
   "source": [
    "# Lines below will give you a hint or solution code\n",
    "#q3.hint()\n",
    "#q3.solution()"
   ]
  },
  {
   "cell_type": "markdown",
   "metadata": {
    "papermill": {
     "duration": 0.015888,
     "end_time": "2021-03-11T17:13:13.099232",
     "exception": false,
     "start_time": "2021-03-11T17:13:13.083344",
     "status": "completed"
    },
    "tags": []
   },
   "source": [
    "# (Optional) More practice\n",
    "\n",
    "Check out [this dataset of files in different character encodings](https://www.kaggle.com/rtatman/character-encoding-examples). Can you read in all the files with their original encodings and them save them out as UTF-8 files?\n",
    "\n",
    "If you have a file that's in UTF-8 but has just a couple of weird-looking characters in it, you can try out the [ftfy module](https://ftfy.readthedocs.io/en/latest/#) and see if it helps. \n",
    "\n",
    "# Keep going\n",
    "\n",
    "In the final lesson, learn how to [**clean up inconsistent text entries**](https://www.kaggle.com/alexisbcook/inconsistent-data-entry) in your dataset."
   ]
  },
  {
   "cell_type": "markdown",
   "metadata": {
    "papermill": {
     "duration": 0.015913,
     "end_time": "2021-03-11T17:13:13.131306",
     "exception": false,
     "start_time": "2021-03-11T17:13:13.115393",
     "status": "completed"
    },
    "tags": []
   },
   "source": [
    "---\n",
    "\n",
    "\n",
    "\n",
    "\n",
    "*Have questions or comments? Visit the [Learn Discussion forum](https://www.kaggle.com/learn-forum/172650) to chat with other Learners.*"
   ]
  }
 ],
 "metadata": {
  "kernelspec": {
   "display_name": "Python 3",
   "language": "python",
   "name": "python3"
  },
  "language_info": {
   "codemirror_mode": {
    "name": "ipython",
    "version": 3
   },
   "file_extension": ".py",
   "mimetype": "text/x-python",
   "name": "python",
   "nbconvert_exporter": "python",
   "pygments_lexer": "ipython3",
   "version": "3.7.9"
  },
  "papermill": {
   "default_parameters": {},
   "duration": 8.43738,
   "end_time": "2021-03-11T17:13:13.655529",
   "environment_variables": {},
   "exception": null,
   "input_path": "__notebook__.ipynb",
   "output_path": "__notebook__.ipynb",
   "parameters": {},
   "start_time": "2021-03-11T17:13:05.218149",
   "version": "2.2.2"
  }
 },
 "nbformat": 4,
 "nbformat_minor": 4
}
